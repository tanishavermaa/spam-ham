{
 "cells": [
  {
   "cell_type": "markdown",
   "metadata": {
    "_cell_guid": "f169d7cf-818b-4815-a5be-76265e99d139",
    "_uuid": "25f02ffdb0d53b9663f351fa0c0f415d2bce15b1"
   },
   "source": [
    "#  Spam classification with Naive Bayes\n"
   ]
  },
  {
   "cell_type": "markdown",
   "metadata": {
    "_cell_guid": "8b0b431e-8d74-4a03-9858-539f067f6604",
    "_uuid": "73148e4af546e95aa951ee5cb2c9ee2728eb4401"
   },
   "source": [
    "- Libraries\n",
    "- Exploring the Dataset\n",
    "- Distribution spam and non-spam plots\n",
    "- Text Analytics\n",
    "- Feature Engineering\n",
    "- Predictive analysis (**Multinomial Naive Bayes and and Gausian Naive Bayes**)\n",
    "- Conclusion\n"
   ]
  },
  {
   "cell_type": "markdown",
   "metadata": {
    "_cell_guid": "ba30922b-183b-4f2e-ac19-35ebc9dd865a",
    "_uuid": "e27ea858875f6d5698fcfb196b32160c8d761697"
   },
   "source": [
    "## Libraries"
   ]
  },
  {
   "cell_type": "code",
   "execution_count": 2,
   "metadata": {
    "_cell_guid": "77dbf249-4662-4faf-ae30-654f5f76f5b1",
    "_uuid": "5eb96b9e55cca9f7dbc74128cd5933856b39aa51",
    "tags": []
   },
   "outputs": [],
   "source": [
    "import numpy as np\n",
    "import pandas as pd\n",
    "import matplotlib.pyplot as plt\n",
    "import os\n",
    "import io\n",
    "from collections import Counter\n",
    "from sklearn import feature_extraction, model_selection, naive_bayes, metrics, svm\n",
    "from IPython.display import Image\n",
    "import warnings\n",
    "warnings.filterwarnings(\"ignore\")\n",
    "%matplotlib inline  "
   ]
  },
  {
   "cell_type": "markdown",
   "metadata": {
    "_cell_guid": "ab7471a7-9fda-4dc9-ba8b-6d4f0c1b92e1",
    "_uuid": "2a11f84b23cf786579a3beb1074c6e7375456b77"
   },
   "source": [
    "## Exploring the Dataset"
   ]
  },
  {
   "cell_type": "code",
   "execution_count": 5,
   "metadata": {},
   "outputs": [],
   "source": [
    "# Let's read the email dataset\n",
    "\n",
    "class FormEmailDataset:\n",
    "    def __init__(self, path_of_email):\n",
    "        self.path_of_email = path_of_email\n",
    "        \n",
    "    def reading_files(self,path):\n",
    "        for root, dirnames, filenames in os.walk(path):\n",
    "            for filename in filenames:\n",
    "                \n",
    "                path = os.path.join(root, filename)\n",
    "                if filename.endswith('.html'):\n",
    "                    print(path)\n",
    "\n",
    "                inBody = False\n",
    "                lines = []\n",
    "                f = io.open(path, 'r', encoding='latin1')\n",
    "                for line in f:\n",
    "                    if inBody:\n",
    "                        lines.append(line)\n",
    "                    elif line == '\\n':\n",
    "                        inBody = True\n",
    "                f.close()\n",
    "                message = '\\n'.join(lines)\n",
    "                yield path, message\n",
    "            \n",
    "    def form_dataframe(self,path, classification): #dataframefromdirectory\n",
    "        rows = []\n",
    "        index = []\n",
    "        for filename, message in self.reading_files(r'{}'.format(path)):\n",
    "            rows.append({'message': message, 'class': classification})\n",
    "            index.append(filename)\n",
    "\n",
    "        return pd.DataFrame(rows, index=index)\n",
    "    \n",
    "    def get_data(self):   \n",
    "\n",
    "        formed_data = pd.DataFrame({'message': [], 'class': []})\n",
    "        for path_name in os.listdir(self.path_of_email):\n",
    "            path_of_files = os.path.join(self.path_of_email, path_name)\n",
    "\n",
    "            formed_data = pd.concat((formed_data , self.form_dataframe(path_of_files, path_name)))\n",
    "            print(f\"{path_name} data we got\")\n",
    "            \n",
    "        return formed_data\n",
    "            "
   ]
  },
  {
   "cell_type": "code",
   "execution_count": 7,
   "metadata": {},
   "outputs": [
    {
     "name": "stdout",
     "output_type": "stream",
     "text": [
      "ham data we got\n",
      "spam data we got\n"
     ]
    }
   ],
   "source": [
    "email_dataset = FormEmailDataset(path_of_email='data\\emails').get_data()"
   ]
  },
  {
   "cell_type": "code",
   "execution_count": 8,
   "metadata": {},
   "outputs": [
    {
     "data": {
      "text/html": [
       "<div>\n",
       "<style scoped>\n",
       "    .dataframe tbody tr th:only-of-type {\n",
       "        vertical-align: middle;\n",
       "    }\n",
       "\n",
       "    .dataframe tbody tr th {\n",
       "        vertical-align: top;\n",
       "    }\n",
       "\n",
       "    .dataframe thead th {\n",
       "        text-align: right;\n",
       "    }\n",
       "</style>\n",
       "<table border=\"1\" class=\"dataframe\">\n",
       "  <thead>\n",
       "    <tr style=\"text-align: right;\">\n",
       "      <th></th>\n",
       "      <th>message</th>\n",
       "      <th>class</th>\n",
       "    </tr>\n",
       "  </thead>\n",
       "  <tbody>\n",
       "    <tr>\n",
       "      <th>0</th>\n",
       "      <td>Date:        Wed, 21 Aug 2002 10:54:46 -05...</td>\n",
       "      <td>ham</td>\n",
       "    </tr>\n",
       "    <tr>\n",
       "      <th>1</th>\n",
       "      <td>Martin A posted:\\n\\nTassos Papadopoulos, the G...</td>\n",
       "      <td>ham</td>\n",
       "    </tr>\n",
       "    <tr>\n",
       "      <th>2</th>\n",
       "      <td>Man Threatens Explosion In Moscow \\n\\n\\n\\nThur...</td>\n",
       "      <td>ham</td>\n",
       "    </tr>\n",
       "    <tr>\n",
       "      <th>3</th>\n",
       "      <td>Klez: The Virus That Won't Die\\n\\n \\n\\nAlready...</td>\n",
       "      <td>ham</td>\n",
       "    </tr>\n",
       "    <tr>\n",
       "      <th>4</th>\n",
       "      <td>&gt;  in adding cream to spaghetti carbonara, whi...</td>\n",
       "      <td>ham</td>\n",
       "    </tr>\n",
       "  </tbody>\n",
       "</table>\n",
       "</div>"
      ],
      "text/plain": [
       "                                             message class\n",
       "0      Date:        Wed, 21 Aug 2002 10:54:46 -05...   ham\n",
       "1  Martin A posted:\\n\\nTassos Papadopoulos, the G...   ham\n",
       "2  Man Threatens Explosion In Moscow \\n\\n\\n\\nThur...   ham\n",
       "3  Klez: The Virus That Won't Die\\n\\n \\n\\nAlready...   ham\n",
       "4  >  in adding cream to spaghetti carbonara, whi...   ham"
      ]
     },
     "execution_count": 8,
     "metadata": {},
     "output_type": "execute_result"
    }
   ],
   "source": [
    "email_dataset = email_dataset.reset_index(drop=True)\n",
    "email_dataset.head()"
   ]
  },
  {
   "cell_type": "code",
   "execution_count": 9,
   "metadata": {
    "_cell_guid": "e8604809-62b9-47bd-84fa-92063d8ae5b3",
    "_uuid": "3a9038c1ea6026f8ae89cf052aa71c89bcb940dd",
    "tags": []
   },
   "outputs": [
    {
     "data": {
      "text/html": [
       "<div>\n",
       "<style scoped>\n",
       "    .dataframe tbody tr th:only-of-type {\n",
       "        vertical-align: middle;\n",
       "    }\n",
       "\n",
       "    .dataframe tbody tr th {\n",
       "        vertical-align: top;\n",
       "    }\n",
       "\n",
       "    .dataframe thead th {\n",
       "        text-align: right;\n",
       "    }\n",
       "</style>\n",
       "<table border=\"1\" class=\"dataframe\">\n",
       "  <thead>\n",
       "    <tr style=\"text-align: right;\">\n",
       "      <th></th>\n",
       "      <th>message</th>\n",
       "      <th>class</th>\n",
       "    </tr>\n",
       "  </thead>\n",
       "  <tbody>\n",
       "    <tr>\n",
       "      <th>0</th>\n",
       "      <td>Go until jurong point, crazy.. Available only ...</td>\n",
       "      <td>ham</td>\n",
       "    </tr>\n",
       "    <tr>\n",
       "      <th>1</th>\n",
       "      <td>Ok lar... Joking wif u oni...</td>\n",
       "      <td>ham</td>\n",
       "    </tr>\n",
       "    <tr>\n",
       "      <th>2</th>\n",
       "      <td>Free entry in 2 a wkly comp to win FA Cup fina...</td>\n",
       "      <td>spam</td>\n",
       "    </tr>\n",
       "    <tr>\n",
       "      <th>3</th>\n",
       "      <td>U dun say so early hor... U c already then say...</td>\n",
       "      <td>ham</td>\n",
       "    </tr>\n",
       "    <tr>\n",
       "      <th>4</th>\n",
       "      <td>Nah I don't think he goes to usf, he lives aro...</td>\n",
       "      <td>ham</td>\n",
       "    </tr>\n",
       "  </tbody>\n",
       "</table>\n",
       "</div>"
      ],
      "text/plain": [
       "                                             message class\n",
       "0  Go until jurong point, crazy.. Available only ...   ham\n",
       "1                      Ok lar... Joking wif u oni...   ham\n",
       "2  Free entry in 2 a wkly comp to win FA Cup fina...  spam\n",
       "3  U dun say so early hor... U c already then say...   ham\n",
       "4  Nah I don't think he goes to usf, he lives aro...   ham"
      ]
     },
     "execution_count": 9,
     "metadata": {},
     "output_type": "execute_result"
    }
   ],
   "source": [
    "#let's read the sms data\n",
    "sms_data = pd.read_csv('https://raw.githubusercontent.com/bigmlcom/python/master/data/spam.csv', sep = '\\t')\n",
    "sms_data.columns = ['class','message']\n",
    "sms_data = sms_data[['message', 'class']]\n",
    "sms_data.head()"
   ]
  },
  {
   "cell_type": "markdown",
   "metadata": {
    "tags": []
   },
   "source": [
    "## Let's merge them together"
   ]
  },
  {
   "cell_type": "code",
   "execution_count": 10,
   "metadata": {},
   "outputs": [
    {
     "name": "stdout",
     "output_type": "stream",
     "text": [
      "first five data are:\n",
      " =>=>=>=>=>=>=>=>=>=>\n",
      "                                             message class\n",
      "0      Date:        Wed, 21 Aug 2002 10:54:46 -05...   ham\n",
      "1  Martin A posted:\\n\\nTassos Papadopoulos, the G...   ham\n",
      "2  Man Threatens Explosion In Moscow \\n\\n\\n\\nThur...   ham\n",
      "3  Klez: The Virus That Won't Die\\n\\n \\n\\nAlready...   ham\n",
      "4  >  in adding cream to spaghetti carbonara, whi...   ham\n",
      "last five data are:\n",
      " =>=>=>=>=>=>=>=>=>=>\n",
      "                                               message class\n",
      "651                  Anything lor. Juz both of us lor.   ham\n",
      "652  Get me out of this dump heap. My mom decided t...   ham\n",
      "653  Ok lor... Sony ericsson salesman... I ask shuh...   ham\n",
      "654                                Ard 6 like dat lor.   ham\n",
      "655  Why don't you wait 'til at least wednesday to ...   ham\n"
     ]
    }
   ],
   "source": [
    "data = pd.concat([email_dataset, sms_data])\n",
    "print(\"first five data are:\\n\",\"=>\"*10)\n",
    "print(data.head(5))\n",
    "\n",
    "print(\"last five data are:\\n\",\"=>\"*10)\n",
    "print(data.tail(5))"
   ]
  },
  {
   "cell_type": "markdown",
   "metadata": {},
   "source": [
    "## Shape of the data"
   ]
  },
  {
   "cell_type": "code",
   "execution_count": 11,
   "metadata": {},
   "outputs": [
    {
     "data": {
      "text/plain": [
       "(2893, 2)"
      ]
     },
     "execution_count": 11,
     "metadata": {},
     "output_type": "execute_result"
    }
   ],
   "source": [
    "data.shape"
   ]
  },
  {
   "cell_type": "markdown",
   "metadata": {},
   "source": [
    "## Check null values"
   ]
  },
  {
   "cell_type": "code",
   "execution_count": 8,
   "metadata": {},
   "outputs": [
    {
     "data": {
      "text/plain": [
       "message    0\n",
       "class      0\n",
       "dtype: int64"
      ]
     },
     "execution_count": 8,
     "metadata": {},
     "output_type": "execute_result"
    }
   ],
   "source": [
    "data.isna().sum()"
   ]
  },
  {
   "cell_type": "markdown",
   "metadata": {
    "tags": []
   },
   "source": [
    "### We can see that there is no null values in this dataset.\n",
    "\n"
   ]
  },
  {
   "cell_type": "markdown",
   "metadata": {},
   "source": [
    "## Let's check for duplicate values"
   ]
  },
  {
   "cell_type": "code",
   "execution_count": 10,
   "metadata": {},
   "outputs": [
    {
     "name": "stdout",
     "output_type": "stream",
     "text": [
      "we have 66 duplicate values found in the dataset. \n",
      "Below are the duplicate data. \n",
      " ========================================\n"
     ]
    },
    {
     "data": {
      "text/html": [
       "<div>\n",
       "<style scoped>\n",
       "    .dataframe tbody tr th:only-of-type {\n",
       "        vertical-align: middle;\n",
       "    }\n",
       "\n",
       "    .dataframe tbody tr th {\n",
       "        vertical-align: top;\n",
       "    }\n",
       "\n",
       "    .dataframe thead th {\n",
       "        text-align: right;\n",
       "    }\n",
       "</style>\n",
       "<table border=\"1\" class=\"dataframe\">\n",
       "  <thead>\n",
       "    <tr style=\"text-align: right;\">\n",
       "      <th></th>\n",
       "      <th>message</th>\n",
       "      <th>class</th>\n",
       "    </tr>\n",
       "  </thead>\n",
       "  <tbody>\n",
       "    <tr>\n",
       "      <th>317</th>\n",
       "      <td>I think that this and other articles confuse S...</td>\n",
       "      <td>ham</td>\n",
       "    </tr>\n",
       "    <tr>\n",
       "      <th>318</th>\n",
       "      <td>I think that this and other articles confuse S...</td>\n",
       "      <td>ham</td>\n",
       "    </tr>\n",
       "    <tr>\n",
       "      <th>460</th>\n",
       "      <td>i agree with rob. i think if the phones (and m...</td>\n",
       "      <td>ham</td>\n",
       "    </tr>\n",
       "    <tr>\n",
       "      <th>787</th>\n",
       "      <td>A friend in Dublin is mailing me the CD which ...</td>\n",
       "      <td>ham</td>\n",
       "    </tr>\n",
       "    <tr>\n",
       "      <th>1842</th>\n",
       "      <td>URL: http://scriptingnews.userland.com/backiss...</td>\n",
       "      <td>ham</td>\n",
       "    </tr>\n",
       "    <tr>\n",
       "      <th>...</th>\n",
       "      <td>...</td>\n",
       "      <td>...</td>\n",
       "    </tr>\n",
       "    <tr>\n",
       "      <th>514</th>\n",
       "      <td>Sorry, I'll call later</td>\n",
       "      <td>ham</td>\n",
       "    </tr>\n",
       "    <tr>\n",
       "      <th>549</th>\n",
       "      <td>Sorry, I'll call later</td>\n",
       "      <td>ham</td>\n",
       "    </tr>\n",
       "    <tr>\n",
       "      <th>560</th>\n",
       "      <td>Ok lor.</td>\n",
       "      <td>ham</td>\n",
       "    </tr>\n",
       "    <tr>\n",
       "      <th>581</th>\n",
       "      <td>K. I will sent it again</td>\n",
       "      <td>ham</td>\n",
       "    </tr>\n",
       "    <tr>\n",
       "      <th>649</th>\n",
       "      <td>Sorry, I'll call later</td>\n",
       "      <td>ham</td>\n",
       "    </tr>\n",
       "  </tbody>\n",
       "</table>\n",
       "<p>66 rows × 2 columns</p>\n",
       "</div>"
      ],
      "text/plain": [
       "                                                message class\n",
       "317   I think that this and other articles confuse S...   ham\n",
       "318   I think that this and other articles confuse S...   ham\n",
       "460   i agree with rob. i think if the phones (and m...   ham\n",
       "787   A friend in Dublin is mailing me the CD which ...   ham\n",
       "1842  URL: http://scriptingnews.userland.com/backiss...   ham\n",
       "...                                                 ...   ...\n",
       "514                              Sorry, I'll call later   ham\n",
       "549                              Sorry, I'll call later   ham\n",
       "560                                             Ok lor.   ham\n",
       "581                             K. I will sent it again   ham\n",
       "649                              Sorry, I'll call later   ham\n",
       "\n",
       "[66 rows x 2 columns]"
      ]
     },
     "execution_count": 10,
     "metadata": {},
     "output_type": "execute_result"
    }
   ],
   "source": [
    "print(f\"we have {data.duplicated().sum()} duplicate values found in the dataset. \\nBelow are the duplicate data. \\n\", \"==\"*20)\n",
    "data[data.duplicated()]"
   ]
  },
  {
   "cell_type": "markdown",
   "metadata": {},
   "source": [
    "**As we can see there are some duplicate values. Let's remove keep the first ones.**"
   ]
  },
  {
   "cell_type": "code",
   "execution_count": 14,
   "metadata": {},
   "outputs": [
    {
     "data": {
      "text/plain": [
       "(3590, 2)"
      ]
     },
     "execution_count": 14,
     "metadata": {},
     "output_type": "execute_result"
    }
   ],
   "source": [
    "data = data.drop_duplicates(keep='first')\n",
    "data = data.reset_index(drop=True)\n",
    "data.shape"
   ]
  },
  {
   "cell_type": "markdown",
   "metadata": {},
   "source": [
    "**So we have removed the values which are found duplicated with some other values**\n",
    "\n",
    "We have now 3590 rows data."
   ]
  },
  {
   "cell_type": "code",
   "execution_count": 15,
   "metadata": {},
   "outputs": [],
   "source": [
    "#let's save the dataset\n",
    "data.to_csv(\"spamham.csv\", index=False)"
   ]
  },
  {
   "cell_type": "markdown",
   "metadata": {
    "_cell_guid": "2ed76eea-004a-42a0-a1c9-c45c092bbb4b",
    "_uuid": "d71ec916875461c07bdb1f9d53d9b0a7210de035",
    "tags": []
   },
   "source": [
    "## Distribution spam/non-spam plots"
   ]
  },
  {
   "cell_type": "code",
   "execution_count": 14,
   "metadata": {
    "_cell_guid": "74f9cf41-4793-4be5-a46e-bdb93067e973",
    "_uuid": "99a4b831313c23573b7972c65637d01dd497c6fe",
    "tags": []
   },
   "outputs": [
    {
     "data": {
      "image/png": "[encoded data removed]",
      "text/plain": [
       "<Figure size 432x288 with 1 Axes>"
      ]
     },
     "metadata": {
      "needs_background": "light"
     },
     "output_type": "display_data"
    }
   ],
   "source": [
    "count_Class=pd.value_counts(data[\"class\"], sort= True)\n",
    "count_Class.plot(kind= 'bar', color= [\"blue\", \"orange\"])\n",
    "plt.title('Bar chart')\n",
    "plt.show()"
   ]
  },
  {
   "cell_type": "code",
   "execution_count": 15,
   "metadata": {
    "_cell_guid": "5596df63-7be7-4625-b952-c5508917a630",
    "_uuid": "f233eab105cb93e90ce37f9361616a5be6645751"
   },
   "outputs": [
    {
     "data": {
      "image/png": "[encoded data removed]",
      "text/plain": [
       "<Figure size 432x288 with 1 Axes>"
      ]
     },
     "metadata": {},
     "output_type": "display_data"
    }
   ],
   "source": [
    "count_Class.plot(kind = 'pie',  autopct='%1.0f%%')\n",
    "plt.title('Pie chart')\n",
    "plt.ylabel('')\n",
    "plt.show()"
   ]
  },
  {
   "cell_type": "markdown",
   "metadata": {
    "_cell_guid": "ff53e1a6-a37b-4a31-9b41-c959296156de",
    "_uuid": "9ec51be1879d2987eef26632bc411a3577b42ae8",
    "tags": []
   },
   "source": [
    "## Text Analytics"
   ]
  },
  {
   "cell_type": "markdown",
   "metadata": {
    "_cell_guid": "ba58d2e5-63a4-4443-ab05-7810decb5eb7",
    "_uuid": "b3c395e8534efc8a402df3b6ac1b699b48fa09f3"
   },
   "source": [
    "We want to find the frequencies of words in the spam and non-spam messages. The words of the messages will be model features.<p>\n",
    "We use the function Counter."
   ]
  },
  {
   "cell_type": "code",
   "execution_count": 16,
   "metadata": {
    "_cell_guid": "8c750858-87e9-498c-86f5-4df7310f9e63",
    "_uuid": "03677f8369b4bb3450ffe8a9cd3de9c0b01e681d",
    "tags": []
   },
   "outputs": [],
   "source": [
    "count1 = Counter(\" \".join(data[data['class']=='ham'][\"message\"]).split()).most_common(20)\n",
    "df1 = pd.DataFrame.from_dict(count1)\n",
    "df1 = df1.rename(columns={0: \"words in non-spam\", 1 : \"count\"})\n",
    "count2 = Counter(\" \".join(data[data['class']=='spam'][\"message\"]).split()).most_common(20)\n",
    "df2 = pd.DataFrame.from_dict(count2)\n",
    "df2 = df2.rename(columns={0: \"words in spam\", 1 : \"count_\"})"
   ]
  },
  {
   "cell_type": "code",
   "execution_count": 17,
   "metadata": {
    "_cell_guid": "b8850226-0043-4a37-9e65-a8409efe7026",
    "_uuid": "d18e09f35264ea374ffce57eae07c9335439a2ef",
    "tags": []
   },
   "outputs": [
    {
     "data": {
      "image/png": "[encoded data removed]",
      "text/plain": [
       "<Figure size 432x288 with 1 Axes>"
      ]
     },
     "metadata": {
      "needs_background": "light"
     },
     "output_type": "display_data"
    }
   ],
   "source": [
    "df1.plot.bar(legend = False)\n",
    "y_pos = np.arange(len(df1[\"words in non-spam\"]))\n",
    "plt.xticks(y_pos, df1[\"words in non-spam\"])\n",
    "plt.title('More frequent words in non-spam messages')\n",
    "plt.xlabel('words')\n",
    "plt.ylabel('number')\n",
    "plt.show()"
   ]
  },
  {
   "cell_type": "code",
   "execution_count": 18,
   "metadata": {
    "_cell_guid": "9637faec-7114-4365-aceb-a2d74787a205",
    "_uuid": "bf9b59581db68038824724344fe937e65f5f8661"
   },
   "outputs": [
    {
     "data": {
      "image/png": "[encoded data removed]",
      "text/plain": [
       "<Figure size 432x288 with 1 Axes>"
      ]
     },
     "metadata": {
      "needs_background": "light"
     },
     "output_type": "display_data"
    }
   ],
   "source": [
    "df2.plot.bar(legend = False, color = 'orange')\n",
    "y_pos = np.arange(len(df2[\"words in spam\"]))\n",
    "plt.xticks(y_pos, df2[\"words in spam\"])\n",
    "plt.title('More frequent words in spam messages')\n",
    "plt.xlabel('words')\n",
    "plt.ylabel('number')\n",
    "plt.show()"
   ]
  },
  {
   "cell_type": "markdown",
   "metadata": {
    "_cell_guid": "40db40e9-aeb2-487f-9ab7-d6debf26d611",
    "_uuid": "c971edae5a8be1bfd0719e777ba92322ad897abe"
   },
   "source": [
    "We can see that the majority of frequent words in both classes are stop words such as 'to', 'a', 'or' and so on. <p>\n",
    "With stop words we refer to the most common words in a lenguage, there is no simgle, universal list of stop words. <p>"
   ]
  },
  {
   "cell_type": "markdown",
   "metadata": {
    "_cell_guid": "6887a2a9-6c4c-42f1-92df-fdec4ae3f9f0",
    "_uuid": "47d3122a6fe0ed51dbe5775c7549695cce2a8470"
   },
   "source": [
    "## Feature engineering"
   ]
  },
  {
   "cell_type": "markdown",
   "metadata": {
    "_cell_guid": "238e6b23-de89-4334-80d9-1662dfc1a211",
    "_uuid": "93273550c383144e9ddec84b179475ea7d9cb85c"
   },
   "source": [
    "Text preprocessing, tokenizing and filtering of stopwords are included in a high level component that is able to build a dictionary of features and transform documents to feature vectors.<p>\n",
    "**We remove the stop words in order to improve the analytics**"
   ]
  },
  {
   "cell_type": "code",
   "execution_count": 19,
   "metadata": {
    "_cell_guid": "653bfeae-e298-44e3-b92c-78c0f747b8ef",
    "_uuid": "67b9147f254e720b0641d9a171333942ef529aba"
   },
   "outputs": [
    {
     "data": {
      "text/plain": [
       "(3590, 63395)"
      ]
     },
     "execution_count": 19,
     "metadata": {},
     "output_type": "execute_result"
    }
   ],
   "source": [
    "f = feature_extraction.text.CountVectorizer(stop_words = 'english')\n",
    "X = f.fit_transform(data[\"message\"])\n",
    "np.shape(X)"
   ]
  },
  {
   "cell_type": "markdown",
   "metadata": {
    "_cell_guid": "205a78b4-b452-4a1a-8912-de897a798097",
    "_uuid": "35e5277996ce60e9e8725e20805b2a0d7d118764"
   },
   "source": [
    "We have created more than 63395 new features. The new feature $j$ in the row $i$ is equal to 1 if the word $w_{j}$ appears in the text example $i$. It is zero if not."
   ]
  },
  {
   "cell_type": "markdown",
   "metadata": {
    "_cell_guid": "448eda90-2493-46f0-a588-8e6e73b7e2d3",
    "_uuid": "1f0489faa50638217e4754ff0a8f26e5298752df"
   },
   "source": [
    "## Predictive Analysis"
   ]
  },
  {
   "cell_type": "markdown",
   "metadata": {
    "_cell_guid": "e19c8da3-73b0-4ed8-ac08-04e45a4309da",
    "_uuid": "da31f2e8dd19f4ff0a6c1f6dbf29b34a2c28391a"
   },
   "source": [
    "**My goal is to predict if a new sms is spam or non-spam. I assume that is much worse misclassify non-spam than misclassify an spam. (I don't want to have false positives)**\n",
    "<p>\n",
    "The reason is because I normally don't check the spam messages.<p> The two possible situations are:<p>\n",
    "1. New spam sms in my inbox. (False negative).<p>\n",
    "OUTCOME: I delete it.<p>\n",
    "2. New non-spam sms in my spam folder (False positive).<p>  OUTCOME: I probably don't read it. <p>\n",
    "I prefer the first option!!!"
   ]
  },
  {
   "cell_type": "markdown",
   "metadata": {
    "_cell_guid": "d1e8c9ef-588e-4708-8275-bfafe82c5cd8",
    "_uuid": "83edda58f114f466bf6cf6d1a278a1e5af08e651"
   },
   "source": [
    "First we transform the variable spam/non-spam into binary variable, then we split our data set in training set and test set. "
   ]
  },
  {
   "cell_type": "code",
   "execution_count": 20,
   "metadata": {},
   "outputs": [],
   "source": [
    "#let's map the values of target column ( class )\n",
    "data[\"class\"]=data[\"class\"].map({'spam':1,'ham':0})\n"
   ]
  },
  {
   "cell_type": "code",
   "execution_count": 21,
   "metadata": {
    "_cell_guid": "e5e2bee3-cdad-4ee6-9c59-f3a536195ed7",
    "_uuid": "ab65abc5fe63168bfea503db8e58e5ab03383a22"
   },
   "outputs": [
    {
     "name": "stdout",
     "output_type": "stream",
     "text": [
      "[(2405, 63395), (1185, 63395)]\n"
     ]
    }
   ],
   "source": [
    "X_train, X_test, y_train, y_test = model_selection.train_test_split(X, data['class'], test_size=0.33, random_state=42)\n",
    "print([np.shape(X_train), np.shape(X_test)])"
   ]
  },
  {
   "cell_type": "markdown",
   "metadata": {
    "_cell_guid": "76cc3deb-7b7c-4511-ae4e-ef5cd2f7592b",
    "_uuid": "0463069f7287a20571ab90885b85dad8d9a64368"
   },
   "source": [
    "### Multinomial naive bayes classifier"
   ]
  },
  {
   "cell_type": "markdown",
   "metadata": {
    "_cell_guid": "691fa70e-6aa0-4743-b948-650e90f61e40",
    "_uuid": "7146dbec1c30fd6f2c39454834281e7b74648f39"
   },
   "source": [
    "We train different bayes models changing the regularization parameter $\\alpha$. <p>\n",
    "We evaluate the accuracy, recall and precision of the model with the test set."
   ]
  },
  {
   "cell_type": "code",
   "execution_count": 22,
   "metadata": {
    "_cell_guid": "e7b5bbc6-23cb-49f8-8ea3-83f71c9f6d97",
    "_uuid": "4bf729b41f966730729d72d6b61e287ab426bd39",
    "tags": []
   },
   "outputs": [],
   "source": [
    "list_alpha = np.arange(1/100000, 20, 0.11)\n",
    "score_train = np.zeros(len(list_alpha))\n",
    "score_test = np.zeros(len(list_alpha))\n",
    "recall_test = np.zeros(len(list_alpha))\n",
    "precision_test= np.zeros(len(list_alpha))\n",
    "count = 0\n",
    "for alpha in list_alpha:\n",
    "    bayes = naive_bayes.MultinomialNB(alpha=alpha)\n",
    "    bayes.fit(X_train, y_train)\n",
    "    score_train[count] = bayes.score(X_train, y_train)\n",
    "    score_test[count]= bayes.score(X_test, y_test)\n",
    "    recall_test[count] = metrics.recall_score(y_test, bayes.predict(X_test))\n",
    "    precision_test[count] = metrics.precision_score(y_test, bayes.predict(X_test))\n",
    "    count = count + 1 "
   ]
  },
  {
   "cell_type": "markdown",
   "metadata": {
    "_cell_guid": "4390a64a-41a8-46a6-b6bb-a204e769a617",
    "_uuid": "2c9003728118d2729d284b1712b85f0d2a4df3d5"
   },
   "source": [
    "Let's see the first 10 learning models and their metrics!"
   ]
  },
  {
   "cell_type": "code",
   "execution_count": 23,
   "metadata": {
    "_cell_guid": "9bb5c44b-9d9b-4f79-8462-324eb3addcad",
    "_uuid": "b38a2e021e3b5898e0883ee95165457af85f954b"
   },
   "outputs": [
    {
     "data": {
      "text/html": [
       "<div>\n",
       "<style scoped>\n",
       "    .dataframe tbody tr th:only-of-type {\n",
       "        vertical-align: middle;\n",
       "    }\n",
       "\n",
       "    .dataframe tbody tr th {\n",
       "        vertical-align: top;\n",
       "    }\n",
       "\n",
       "    .dataframe thead th {\n",
       "        text-align: right;\n",
       "    }\n",
       "</style>\n",
       "<table border=\"1\" class=\"dataframe\">\n",
       "  <thead>\n",
       "    <tr style=\"text-align: right;\">\n",
       "      <th></th>\n",
       "      <th>alpha</th>\n",
       "      <th>Train Accuracy</th>\n",
       "      <th>Test Accuracy</th>\n",
       "      <th>Test Recall</th>\n",
       "      <th>Test Precision</th>\n",
       "    </tr>\n",
       "  </thead>\n",
       "  <tbody>\n",
       "    <tr>\n",
       "      <th>0</th>\n",
       "      <td>0.00001</td>\n",
       "      <td>0.998337</td>\n",
       "      <td>0.970464</td>\n",
       "      <td>0.844920</td>\n",
       "      <td>0.963415</td>\n",
       "    </tr>\n",
       "    <tr>\n",
       "      <th>1</th>\n",
       "      <td>0.11001</td>\n",
       "      <td>0.990852</td>\n",
       "      <td>0.960338</td>\n",
       "      <td>0.791444</td>\n",
       "      <td>0.948718</td>\n",
       "    </tr>\n",
       "    <tr>\n",
       "      <th>2</th>\n",
       "      <td>0.22001</td>\n",
       "      <td>0.990437</td>\n",
       "      <td>0.960338</td>\n",
       "      <td>0.791444</td>\n",
       "      <td>0.948718</td>\n",
       "    </tr>\n",
       "    <tr>\n",
       "      <th>3</th>\n",
       "      <td>0.33001</td>\n",
       "      <td>0.988773</td>\n",
       "      <td>0.957806</td>\n",
       "      <td>0.775401</td>\n",
       "      <td>0.947712</td>\n",
       "    </tr>\n",
       "    <tr>\n",
       "      <th>4</th>\n",
       "      <td>0.44001</td>\n",
       "      <td>0.987110</td>\n",
       "      <td>0.956962</td>\n",
       "      <td>0.764706</td>\n",
       "      <td>0.953333</td>\n",
       "    </tr>\n",
       "    <tr>\n",
       "      <th>5</th>\n",
       "      <td>0.55001</td>\n",
       "      <td>0.985447</td>\n",
       "      <td>0.959494</td>\n",
       "      <td>0.770053</td>\n",
       "      <td>0.966443</td>\n",
       "    </tr>\n",
       "    <tr>\n",
       "      <th>6</th>\n",
       "      <td>0.66001</td>\n",
       "      <td>0.983784</td>\n",
       "      <td>0.958650</td>\n",
       "      <td>0.764706</td>\n",
       "      <td>0.966216</td>\n",
       "    </tr>\n",
       "    <tr>\n",
       "      <th>7</th>\n",
       "      <td>0.77001</td>\n",
       "      <td>0.982536</td>\n",
       "      <td>0.958650</td>\n",
       "      <td>0.764706</td>\n",
       "      <td>0.966216</td>\n",
       "    </tr>\n",
       "    <tr>\n",
       "      <th>8</th>\n",
       "      <td>0.88001</td>\n",
       "      <td>0.980042</td>\n",
       "      <td>0.957806</td>\n",
       "      <td>0.759358</td>\n",
       "      <td>0.965986</td>\n",
       "    </tr>\n",
       "    <tr>\n",
       "      <th>9</th>\n",
       "      <td>0.99001</td>\n",
       "      <td>0.977963</td>\n",
       "      <td>0.955274</td>\n",
       "      <td>0.743316</td>\n",
       "      <td>0.965278</td>\n",
       "    </tr>\n",
       "  </tbody>\n",
       "</table>\n",
       "</div>"
      ],
      "text/plain": [
       "     alpha  Train Accuracy  Test Accuracy  Test Recall  Test Precision\n",
       "0  0.00001        0.998337       0.970464     0.844920        0.963415\n",
       "1  0.11001        0.990852       0.960338     0.791444        0.948718\n",
       "2  0.22001        0.990437       0.960338     0.791444        0.948718\n",
       "3  0.33001        0.988773       0.957806     0.775401        0.947712\n",
       "4  0.44001        0.987110       0.956962     0.764706        0.953333\n",
       "5  0.55001        0.985447       0.959494     0.770053        0.966443\n",
       "6  0.66001        0.983784       0.958650     0.764706        0.966216\n",
       "7  0.77001        0.982536       0.958650     0.764706        0.966216\n",
       "8  0.88001        0.980042       0.957806     0.759358        0.965986\n",
       "9  0.99001        0.977963       0.955274     0.743316        0.965278"
      ]
     },
     "execution_count": 23,
     "metadata": {},
     "output_type": "execute_result"
    }
   ],
   "source": [
    "matrix = np.matrix(np.c_[list_alpha, score_train, score_test, recall_test, precision_test])\n",
    "models = pd.DataFrame(data = matrix, columns = \n",
    "             ['alpha', 'Train Accuracy', 'Test Accuracy', 'Test Recall', 'Test Precision'])\n",
    "models.head(n=10)"
   ]
  },
  {
   "cell_type": "markdown",
   "metadata": {
    "_cell_guid": "072aeed4-d578-4917-b32e-ca54380dd5e2",
    "_uuid": "7a3bfc6ad5f9e5d05187c61074b1b47b50516772"
   },
   "source": [
    "let's select the model with the most test precision"
   ]
  },
  {
   "cell_type": "code",
   "execution_count": 27,
   "metadata": {
    "_cell_guid": "6f285b74-00bc-45cd-af8c-ac3c846b92e7",
    "_uuid": "4d87a52c2e11585c970314171d943bcb45f596c8"
   },
   "outputs": [
    {
     "data": {
      "text/plain": [
       "alpha             1.650010\n",
       "Train Accuracy    0.972141\n",
       "Test Accuracy     0.951899\n",
       "Test Recall       0.716578\n",
       "Test Precision    0.971014\n",
       "Name: 15, dtype: float64"
      ]
     },
     "execution_count": 27,
     "metadata": {},
     "output_type": "execute_result"
    }
   ],
   "source": [
    "best_index = models['Test Precision'].idxmax()\n",
    "models.iloc[best_index, :]"
   ]
  },
  {
   "cell_type": "markdown",
   "metadata": {
    "_cell_guid": "060f159b-e0d9-4d49-8d1b-108db0683551",
    "_uuid": "da73a1525d323708933ea89fbe4e77027c0a50db"
   },
   "source": [
    "**The best model does not produce any false positive, which is our goal.** <p>\n",
    "Let's see if there is more than one model with 100% precision !"
   ]
  },
  {
   "cell_type": "code",
   "execution_count": 31,
   "metadata": {},
   "outputs": [
    {
     "data": {
      "text/plain": [
       "0.9710144927536232"
      ]
     },
     "execution_count": 31,
     "metadata": {},
     "output_type": "execute_result"
    }
   ],
   "source": [
    "models['Test Precision'].max()"
   ]
  },
  {
   "cell_type": "code",
   "execution_count": 32,
   "metadata": {
    "_cell_guid": "258125aa-b60f-448a-ab78-e6bb54871837",
    "_uuid": "a493d149424ca65839847ff534cbd7630011bf09"
   },
   "outputs": [
    {
     "data": {
      "text/html": [
       "<div>\n",
       "<style scoped>\n",
       "    .dataframe tbody tr th:only-of-type {\n",
       "        vertical-align: middle;\n",
       "    }\n",
       "\n",
       "    .dataframe tbody tr th {\n",
       "        vertical-align: top;\n",
       "    }\n",
       "\n",
       "    .dataframe thead th {\n",
       "        text-align: right;\n",
       "    }\n",
       "</style>\n",
       "<table border=\"1\" class=\"dataframe\">\n",
       "  <thead>\n",
       "    <tr style=\"text-align: right;\">\n",
       "      <th></th>\n",
       "      <th>alpha</th>\n",
       "      <th>Train Accuracy</th>\n",
       "      <th>Test Accuracy</th>\n",
       "      <th>Test Recall</th>\n",
       "      <th>Test Precision</th>\n",
       "    </tr>\n",
       "  </thead>\n",
       "  <tbody>\n",
       "    <tr>\n",
       "      <th>15</th>\n",
       "      <td>1.65001</td>\n",
       "      <td>0.972141</td>\n",
       "      <td>0.951899</td>\n",
       "      <td>0.716578</td>\n",
       "      <td>0.971014</td>\n",
       "    </tr>\n",
       "  </tbody>\n",
       "</table>\n",
       "</div>"
      ],
      "text/plain": [
       "      alpha  Train Accuracy  Test Accuracy  Test Recall  Test Precision\n",
       "15  1.65001        0.972141       0.951899     0.716578        0.971014"
      ]
     },
     "execution_count": 32,
     "metadata": {},
     "output_type": "execute_result"
    }
   ],
   "source": [
    "models[models['Test Precision'] == models['Test Precision'].max()].head(n=5)"
   ]
  },
  {
   "cell_type": "markdown",
   "metadata": {
    "_cell_guid": "8c77ed68-bd03-41cd-9293-f8c7777df06d",
    "_uuid": "8d9107309dfcd3c0b77bb9be6f09ac07d0d860f4"
   },
   "source": [
    "Between these models with the highest possible precision, we are going to select which has more test accuracy."
   ]
  },
  {
   "cell_type": "code",
   "execution_count": 33,
   "metadata": {
    "_cell_guid": "1dd94a26-7252-4fcd-ad18-7d755ab20ab7",
    "_uuid": "d74e1e4cebee52716b5bf9e9aa72efa147f43f93"
   },
   "outputs": [
    {
     "data": {
      "text/plain": [
       "alpha             1.650010\n",
       "Train Accuracy    0.972141\n",
       "Test Accuracy     0.951899\n",
       "Test Recall       0.716578\n",
       "Test Precision    0.971014\n",
       "Name: 15, dtype: float64"
      ]
     },
     "execution_count": 33,
     "metadata": {},
     "output_type": "execute_result"
    }
   ],
   "source": [
    "best_index = models[models['Test Precision']==models['Test Precision'].max()]['Test Accuracy'].idxmax()\n",
    "bayes = naive_bayes.MultinomialNB(alpha=list_alpha[best_index])\n",
    "bayes.fit(X_train, y_train)\n",
    "models.iloc[best_index, :]"
   ]
  },
  {
   "cell_type": "markdown",
   "metadata": {
    "_cell_guid": "67ca2aef-56b9-4701-9590-387eb64c13a8",
    "_uuid": "606304507b731dd866ad9b97daa654a0c32a544a"
   },
   "source": [
    "#### Confusion matrix with naive bayes classifier"
   ]
  },
  {
   "cell_type": "code",
   "execution_count": 34,
   "metadata": {
    "_cell_guid": "076b7447-5c33-4671-8b25-7000e0c3a28f",
    "_uuid": "a700b298131b18e8ec21a67959df4a71c1177a54"
   },
   "outputs": [
    {
     "data": {
      "text/html": [
       "<div>\n",
       "<style scoped>\n",
       "    .dataframe tbody tr th:only-of-type {\n",
       "        vertical-align: middle;\n",
       "    }\n",
       "\n",
       "    .dataframe tbody tr th {\n",
       "        vertical-align: top;\n",
       "    }\n",
       "\n",
       "    .dataframe thead th {\n",
       "        text-align: right;\n",
       "    }\n",
       "</style>\n",
       "<table border=\"1\" class=\"dataframe\">\n",
       "  <thead>\n",
       "    <tr style=\"text-align: right;\">\n",
       "      <th></th>\n",
       "      <th>Predicted 0</th>\n",
       "      <th>Predicted 1</th>\n",
       "    </tr>\n",
       "  </thead>\n",
       "  <tbody>\n",
       "    <tr>\n",
       "      <th>Actual 0</th>\n",
       "      <td>994</td>\n",
       "      <td>4</td>\n",
       "    </tr>\n",
       "    <tr>\n",
       "      <th>Actual 1</th>\n",
       "      <td>53</td>\n",
       "      <td>134</td>\n",
       "    </tr>\n",
       "  </tbody>\n",
       "</table>\n",
       "</div>"
      ],
      "text/plain": [
       "          Predicted 0  Predicted 1\n",
       "Actual 0          994            4\n",
       "Actual 1           53          134"
      ]
     },
     "execution_count": 34,
     "metadata": {},
     "output_type": "execute_result"
    }
   ],
   "source": [
    "m_confusion_test = metrics.confusion_matrix(y_test, bayes.predict(X_test))\n",
    "pd.DataFrame(data = m_confusion_test, columns = ['Predicted 0', 'Predicted 1'],\n",
    "            index = ['Actual 0', 'Actual 1'])"
   ]
  },
  {
   "cell_type": "code",
   "execution_count": 1,
   "metadata": {},
   "outputs": [],
   "source": [
    "import numpy as np\n",
    "import os \n",
    "\n",
    "os.chdir(\"..\")\n",
    "\n",
    "arr = np.load(r\"src\\artifact\\01_21_2024_23_59_34\\data_transformation\\transformed\\test.npy\")\n"
   ]
  },
  {
   "cell_type": "code",
   "execution_count": 8,
   "metadata": {},
   "outputs": [
    {
     "data": {
      "text/plain": [
       "array([[0., 0., 0., ..., 0., 0., 0.],\n",
       "       [0., 0., 0., ..., 0., 0., 0.],\n",
       "       [0., 0., 0., ..., 0., 0., 0.],\n",
       "       ...,\n",
       "       [0., 0., 0., ..., 0., 0., 1.],\n",
       "       [0., 0., 0., ..., 0., 0., 0.],\n",
       "       [0., 0., 0., ..., 0., 0., 0.]])"
      ]
     },
     "execution_count": 8,
     "metadata": {},
     "output_type": "execute_result"
    }
   ],
   "source": [
    "arr[:-1]"
   ]
  },
  {
   "cell_type": "code",
   "execution_count": 9,
   "metadata": {},
   "outputs": [],
   "source": [
    "x_values = arr[:, :-1] , arr[:, -1]"
   ]
  },
  {
   "cell_type": "code",
   "execution_count": 11,
   "metadata": {},
   "outputs": [
    {
     "data": {
      "text/plain": [
       "array([[0., 0., 0., ..., 0., 0., 0.],\n",
       "       [0., 0., 0., ..., 0., 0., 0.],\n",
       "       [0., 0., 0., ..., 0., 0., 0.],\n",
       "       ...,\n",
       "       [0., 0., 0., ..., 0., 0., 0.],\n",
       "       [0., 0., 0., ..., 0., 0., 0.],\n",
       "       [0., 0., 0., ..., 0., 0., 0.]])"
      ]
     },
     "execution_count": 11,
     "metadata": {},
     "output_type": "execute_result"
    }
   ],
   "source": [
    "x_values"
   ]
  },
  {
   "cell_type": "markdown",
   "metadata": {
    "_cell_guid": "f941e85f-382a-4da1-86a7-6f7da14f70c0",
    "_uuid": "a3bedbcaf45f81634407cbce15bcf8c701a4bbdb"
   },
   "source": [
    "* #### We misclassify 56 spam messages as non-spam emails whereas we don't misclassify any non-spam message."
   ]
  }
 ],
 "metadata": {
  "anaconda-cloud": {},
  "kernelspec": {
   "display_name": "Python 3 (ipykernel)",
   "language": "python",
   "name": "python3"
  },
  "language_info": {
   "codemirror_mode": {
    "name": "ipython",
    "version": 3
   },
   "file_extension": ".py",
   "mimetype": "text/x-python",
   "name": "python",
   "nbconvert_exporter": "python",
   "pygments_lexer": "ipython3",
   "version": "3.8.18"
  },
  "vscode": {
   "interpreter": {
    "hash": "6a8f3a730b2b5112d3d12c245cbdcd746021ef8913311993047d23fe00c693bf"
   }
  }
 },
 "nbformat": 4,
 "nbformat_minor": 4
}
